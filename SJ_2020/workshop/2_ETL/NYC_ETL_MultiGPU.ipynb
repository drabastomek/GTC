{
 "cells": [
  {
   "cell_type": "markdown",
   "metadata": {},
   "source": [
    "# NVIDIA RAPIDS on Azure ML\n",
    "## GTC 2020 DLI WORKSHOP\n",
    "\n",
    "In this notebook we use NYC Taxi dataset to showcase how easy it is to *translate* the single-GPU RAPIDS code into a multi-GPU equivalent.\n",
    "\n",
    "**AUTHORS**\n",
    "* Tom Drabas (Microsoft)\n",
    "* Manuel Reyes Gomez (NVIDIA)\n",
    "\n",
    "\n",
    "**GREATER TEAM**\n",
    "* Joshua Patterson (NVIDIA)\n",
    "* Keith Kraus (NVIDIA)\n",
    "* Brad Rees (NVIDIA)\n",
    "* John Zedlewski (NVIDIA)\n",
    "* Paul Mahler (NVIDIA)\n",
    "* Nick Becker (NVIDIA)\n",
    "* Michael Beaumont (NVIDIA)\n",
    "* Chau Dang (NVIDIA)"
   ]
  },
  {
   "cell_type": "markdown",
   "metadata": {},
   "source": [
    "# Import modules"
   ]
  },
  {
   "cell_type": "code",
   "execution_count": 1,
   "metadata": {},
   "outputs": [],
   "source": [
    "import dask\n",
    "import dask_cudf\n",
    "import cudf\n",
    "import os\n",
    "import socket\n",
    "import dask_xgboost as dxgb\n",
    "import distributed\n",
    "import pickle\n",
    "import glob\n",
    "from collections import OrderedDict\n",
    "import numpy as np\n",
    "from math import cos, sin, asin, sqrt, pi\n",
    "\n",
    "from dask.delayed import delayed\n",
    "\n",
    "from azureml.core import Run"
   ]
  },
  {
   "cell_type": "code",
   "execution_count": 2,
   "metadata": {},
   "outputs": [
    {
     "name": "stdout",
     "output_type": "stream",
     "text": [
      "Setting dask settings...\n",
      "Changes to dask settings\n",
      "-> Setting work-stealing to  False\n",
      "-> Setting scheduler bandwidth to  20\n",
      "Settings updates complete\n"
     ]
    }
   ],
   "source": [
    "print(\"Setting dask settings...\")\n",
    "dask.config.set({'distributed.scheduler.work-stealing': False})\n",
    "dask.config.set({'distributed.scheduler.bandwidth': 20})\n",
    "print(\"Changes to dask settings\")\n",
    "print(\"-> Setting work-stealing to \", dask.config.get('distributed.scheduler.work-stealing'))\n",
    "print(\"-> Setting scheduler bandwidth to \", dask.config.get('distributed.scheduler.bandwidth'))\n",
    "print(\"Settings updates complete\")"
   ]
  },
  {
   "cell_type": "code",
   "execution_count": 3,
   "metadata": {},
   "outputs": [
    {
     "data": {
      "text/html": [
       "<table style=\"border: 2px solid white;\">\n",
       "<tr>\n",
       "<td style=\"vertical-align: top; border: 0px solid white\">\n",
       "<h3 style=\"text-align: left;\">Client</h3>\n",
       "<ul style=\"text-align: left; list-style: none; margin: 0; padding: 0;\">\n",
       "  <li><b>Scheduler: </b>tcp://10.7.0.5:8786</li>\n",
       "  <li><b>Dashboard: </b><a href='http://10.7.0.5:8787/status' target='_blank'>http://10.7.0.5:8787/status</a>\n",
       "</ul>\n",
       "</td>\n",
       "<td style=\"vertical-align: top; border: 0px solid white\">\n",
       "<h3 style=\"text-align: left;\">Cluster</h3>\n",
       "<ul style=\"text-align: left; list-style:none; margin: 0; padding: 0;\">\n",
       "  <li><b>Workers: </b>4</li>\n",
       "  <li><b>Cores: </b>4</li>\n",
       "  <li><b>Memory: </b>0 B</li>\n",
       "</ul>\n",
       "</td>\n",
       "</tr>\n",
       "</table>"
      ],
      "text/plain": [
       "<Client: 'tcp://10.7.0.5:8786' processes=4 threads=4>"
      ]
     },
     "execution_count": 3,
     "metadata": {},
     "output_type": "execute_result"
    }
   ],
   "source": [
    "run = Run.get_context()\n",
    "ip = socket.gethostbyname(socket.gethostname())\n",
    "scheduler = run.get_metrics()[\"scheduler\"]\n",
    "client = distributed.Client(scheduler)\n",
    "client.restart()"
   ]
  },
  {
   "cell_type": "code",
   "execution_count": 4,
   "metadata": {},
   "outputs": [
    {
     "name": "stdout",
     "output_type": "stream",
     "text": [
      "Fri Feb 14 20:46:26 2020       \n",
      "+-----------------------------------------------------------------------------+\n",
      "| NVIDIA-SMI 440.33.01    Driver Version: 440.33.01    CUDA Version: 10.2     |\n",
      "|-------------------------------+----------------------+----------------------+\n",
      "| GPU  Name        Persistence-M| Bus-Id        Disp.A | Volatile Uncorr. ECC |\n",
      "| Fan  Temp  Perf  Pwr:Usage/Cap|         Memory-Usage | GPU-Util  Compute M. |\n",
      "|===============================+======================+======================|\n",
      "|   0  Tesla V100-PCIE...  On   | 00009026:00:00.0 Off |                    0 |\n",
      "| N/A   34C    P0    37W / 250W |    622MiB / 16160MiB |      0%      Default |\n",
      "+-------------------------------+----------------------+----------------------+\n",
      "                                                                               \n",
      "+-----------------------------------------------------------------------------+\n",
      "| Processes:                                                       GPU Memory |\n",
      "|  GPU       PID   Type   Process name                             Usage      |\n",
      "|=============================================================================|\n",
      "+-----------------------------------------------------------------------------+\n"
     ]
    }
   ],
   "source": [
    "!nvidia-smi"
   ]
  },
  {
   "cell_type": "markdown",
   "metadata": {},
   "source": [
    "# Read, clean and featurize data"
   ]
  },
  {
   "cell_type": "code",
   "execution_count": 5,
   "metadata": {},
   "outputs": [],
   "source": [
    "STORAGE_OPTIONS = {\n",
    "    'account_name': run.experiment.workspace.datastores['datafiles'].account_name,\n",
    "    'account_key' : run.experiment.workspace.datastores['datafiles'].account_key\n",
    "}\n",
    "\n",
    "protocol  = 'abfs'      # change to 'adl' for gen 1\n",
    "container = 'datasets'"
   ]
  },
  {
   "cell_type": "code",
   "execution_count": 6,
   "metadata": {},
   "outputs": [
    {
     "data": {
      "text/plain": [
       "['nyctaxi/2015/yellow_tripdata_2015-01.csv',\n",
       " 'nyctaxi/2015/yellow_tripdata_2015-02.csv',\n",
       " 'nyctaxi/2015/yellow_tripdata_2015-03.csv',\n",
       " 'nyctaxi/2015/yellow_tripdata_2015-04.csv',\n",
       " 'nyctaxi/2015/yellow_tripdata_2015-05.csv',\n",
       " 'nyctaxi/2015/yellow_tripdata_2015-06.csv',\n",
       " 'nyctaxi/2015/yellow_tripdata_2015-07.csv',\n",
       " 'nyctaxi/2015/yellow_tripdata_2015-08.csv']"
      ]
     },
     "execution_count": 6,
     "metadata": {},
     "output_type": "execute_result"
    }
   ],
   "source": [
    "data_path = '../../../../../../datafiles'\n",
    "datafiles = glob.glob(data_path + '/nyctaxi/2015/*')\n",
    "datafiles = ['/'.join(f.split('/')[7:]) for f in datafiles[0:8]]\n",
    "datafiles"
   ]
  },
  {
   "cell_type": "code",
   "execution_count": 7,
   "metadata": {},
   "outputs": [
    {
     "data": {
      "text/plain": [
       "['abfs://datasets/nyctaxi/2015/yellow_tripdata_2015-01.csv',\n",
       " 'abfs://datasets/nyctaxi/2015/yellow_tripdata_2015-02.csv',\n",
       " 'abfs://datasets/nyctaxi/2015/yellow_tripdata_2015-03.csv',\n",
       " 'abfs://datasets/nyctaxi/2015/yellow_tripdata_2015-04.csv',\n",
       " 'abfs://datasets/nyctaxi/2015/yellow_tripdata_2015-05.csv',\n",
       " 'abfs://datasets/nyctaxi/2015/yellow_tripdata_2015-06.csv',\n",
       " 'abfs://datasets/nyctaxi/2015/yellow_tripdata_2015-07.csv',\n",
       " 'abfs://datasets/nyctaxi/2015/yellow_tripdata_2015-08.csv']"
      ]
     },
     "execution_count": 7,
     "metadata": {},
     "output_type": "execute_result"
    }
   ],
   "source": [
    "files = [f'{protocol}://{container}/{f}' for f in datafiles]\n",
    "files"
   ]
  },
  {
   "cell_type": "markdown",
   "metadata": {},
   "source": [
    "# Define global vars and methods"
   ]
  },
  {
   "cell_type": "code",
   "execution_count": 8,
   "metadata": {},
   "outputs": [],
   "source": [
    "columns_dtypes = OrderedDict(\n",
    "    [\n",
    "        ('vendor_id', 'int32'),\n",
    "        ('pickup_datetime', 'date'),\n",
    "        ('dropoff_datetime', 'date'),\n",
    "        ('passenger_count', 'int32'),\n",
    "        ('trip_distance', 'int32'),\n",
    "        ('pickup_longitude', 'float64'),\n",
    "        ('pickup_latitude', 'float64'),\n",
    "        ('rate_code', 'int32'),\n",
    "        ('store_and_fwd_flag', 'int32'),\n",
    "        ('dropoff_longitude', 'float64'),\n",
    "        ('dropoff_latitude', 'float64'),\n",
    "        ('payment_type', 'int32'),\n",
    "        ('fare_amount', 'float64'),\n",
    "        ('extra', 'float64'),\n",
    "        ('mta_tax', 'float64'),\n",
    "        ('tip_amount', 'float64'),\n",
    "        ('tolls_amount', 'float64'),\n",
    "        ('surcharge', 'float64'),\n",
    "        ('total_amount', 'float64')\n",
    "    ]\n",
    ")\n",
    "\n",
    "use_col  = [\n",
    "      'pickup_datetime'\n",
    "    , 'dropoff_datetime'\n",
    "    , 'passenger_count'\n",
    "    , 'trip_distance'\n",
    "    , 'pickup_longitude'\n",
    "    , 'pickup_latitude'\n",
    "    , 'rate_code'\n",
    "    , 'dropoff_longitude'\n",
    "    , 'dropoff_latitude'\n",
    "    , 'fare_amount'\n",
    "]\n",
    "\n",
    "query_frags = [\n",
    "    'fare_amount > 0 and fare_amount < 500',\n",
    "    'passenger_count > 0 and passenger_count < 6',\n",
    "    'pickup_longitude > -75 and pickup_longitude < -73',\n",
    "    'dropoff_longitude > -75 and dropoff_longitude < -73',\n",
    "    'pickup_latitude > 40 and pickup_latitude < 42',\n",
    "    'dropoff_latitude > 40 and dropoff_latitude < 42'\n",
    "]"
   ]
  },
  {
   "cell_type": "code",
   "execution_count": 9,
   "metadata": {},
   "outputs": [],
   "source": [
    "def print_message(msg, length=80, filler='#', pre_post=''):\n",
    "    print(f'{pre_post} {msg} {pre_post}'.center(length, filler))\n",
    "    \n",
    "def print_time(t_curr, t_next, t_start, length=80):\n",
    "    print('> Step time: {0}, elapsed time: {1}'\n",
    "          .format(str(t_curr - t_next), str(t_curr - t_start)).rjust(length, '-'))\n",
    "    \n",
    "def haversine_distance_kernel_gpu(pickup_latitude, pickup_longitude, dropoff_latitude, dropoff_longitude, h_distance):\n",
    "    for i, (x_1, y_1, x_2, y_2) in enumerate(zip(pickup_latitude, pickup_longitude, dropoff_latitude, dropoff_longitude)):\n",
    "        x_1 = pi / 180 * x_1\n",
    "        y_1 = pi / 180 * y_1\n",
    "        x_2 = pi / 180 * x_2\n",
    "        y_2 = pi / 180 * y_2\n",
    "        \n",
    "        dlon = y_2 - y_1\n",
    "        dlat = x_2 - x_1\n",
    "        a = sin(dlat / 2)**2 + cos(x_1) * cos(x_2) * sin(dlon / 2)**2\n",
    "        \n",
    "        c = 2 * asin(sqrt(a)) \n",
    "        r = 3959 # Radius of earth in miles\n",
    "        \n",
    "        h_distance[i] = c * r\n",
    "        \n",
    "def haversine_distance_kernel_cpu(lon1, lat1, lon2, lat2):\n",
    "    lon1, lat1, lon2, lat2 = map(np.radians, [lon1, lat1, lon2, lat2]) \n",
    "    \n",
    "    newlon = lon2 - lon1\n",
    "    newlat = lat2 - lat1\n",
    " \n",
    "    haver_formula = np.sin(newlat/2.0)**2 + np.cos(lat1) * np.cos(lat2) * np.sin(newlon/2.0)**2\n",
    " \n",
    "    dist = 2 * np.arcsin(np.sqrt(haver_formula ))\n",
    "    km = 3959 * dist\n",
    "    return km\n",
    "\n",
    "def bin_fares(fare_amount, fare_bin):\n",
    "    for i, fare in enumerate(fare_amount):\n",
    "        fare_bin[i] = int(fare / 10.0) * 10\n",
    "    \n",
    "def add_features(df):\n",
    "    df['pickup_datetime'] = df['pickup_datetime'].astype('datetime64[ms]')\n",
    "    \n",
    "    df['hour']  = df['pickup_datetime'].dt.hour\n",
    "    df['year']  = df['pickup_datetime'].dt.year\n",
    "    df['month'] = df['pickup_datetime'].dt.month\n",
    "    df['day']   = df['pickup_datetime'].dt.day\n",
    "    \n",
    "    df['pickup_latitude_r']   = (df['pickup_latitude']   / .01).astype('int') / 100.0\n",
    "    df['pickup_longitude_r']  = (df['pickup_longitude']  / .01).astype('int') / 100.0\n",
    "    df['dropoff_latitude_r']  = (df['dropoff_latitude']  / .01).astype('int') / 100.0\n",
    "    df['dropoff_longitude_r'] = (df['dropoff_longitude'] / .01).astype('int') / 100.0\n",
    "    \n",
    "\n",
    "    df = df.drop('pickup_datetime', axis=1)\n",
    "    df = df.drop('dropoff_datetime', axis=1)\n",
    "\n",
    "    df = df.apply_rows(\n",
    "        haversine_distance_kernel_gpu\n",
    "        , incols=['pickup_latitude', 'pickup_longitude', 'dropoff_latitude', 'dropoff_longitude']\n",
    "        , outcols=dict(h_distance=np.float32)\n",
    "        , kwargs=dict()\n",
    "    )\n",
    "        \n",
    "    return df"
   ]
  },
  {
   "cell_type": "markdown",
   "metadata": {},
   "source": [
    "# Read the data"
   ]
  },
  {
   "cell_type": "code",
   "execution_count": 10,
   "metadata": {},
   "outputs": [
    {
     "name": "stdout",
     "output_type": "stream",
     "text": [
      "######################## Number of records: 99,799,189 #########################\n",
      "CPU times: user 1.05 s, sys: 347 ms, total: 1.4 s\n",
      "Wall time: 1min 28s\n"
     ]
    }
   ],
   "source": [
    "%%time\n",
    "taxi_df = (\n",
    "    dask_cudf\n",
    "    .read_csv(\n",
    "        files\n",
    "        , storage_options=STORAGE_OPTIONS\n",
    "        , names=list(columns_dtypes.keys())\n",
    "        , dtype=list(columns_dtypes.values())\n",
    "        , skiprows=1\n",
    "        , usecols=use_col)\n",
    "    .repartition(npartitions=72)\n",
    "    .persist()\n",
    ")\n",
    "\n",
    "print(f' Number of records: {len(taxi_df):,} '.center(80, '#'))"
   ]
  },
  {
   "cell_type": "markdown",
   "metadata": {},
   "source": [
    "# Featurize the data"
   ]
  },
  {
   "cell_type": "code",
   "execution_count": 11,
   "metadata": {},
   "outputs": [
    {
     "name": "stdout",
     "output_type": "stream",
     "text": [
      "############################### SUBSETTING DATA ################################\n"
     ]
    }
   ],
   "source": [
    "print_message('SUBSETTING DATA')\n",
    "# apply a list of filter conditions to throw out records with missing or outlier values\n",
    "taxi_df = taxi_df.query(' and '.join(query_frags))"
   ]
  },
  {
   "cell_type": "code",
   "execution_count": 12,
   "metadata": {},
   "outputs": [
    {
     "name": "stdout",
     "output_type": "stream",
     "text": [
      "############################### FEATURIZING DATA ###############################\n"
     ]
    }
   ],
   "source": [
    "print_message('FEATURIZING DATA')\n",
    "taxi_df = taxi_df.map_partitions(add_features)"
   ]
  },
  {
   "cell_type": "code",
   "execution_count": 14,
   "metadata": {},
   "outputs": [
    {
     "name": "stdout",
     "output_type": "stream",
     "text": [
      "################################ GROUPING DATA #################################\n",
      "CPU times: user 2.78 s, sys: 24.8 ms, total: 2.81 s\n",
      "Wall time: 18.3 s\n"
     ]
    }
   ],
   "source": [
    "%%time\n",
    "print_message('GROUPING DATA')\n",
    "\n",
    "def bin_fares_frame(df):\n",
    "    ### PUT THE FARE IN BINS OF $10\n",
    "    df = df.apply_rows(\n",
    "        bin_fares\n",
    "        , incols = {'fare_amount': 'fare_amount'}\n",
    "        , outcols = {'fare_bin': np.int32}\n",
    "        , kwargs = {}\n",
    "    )\n",
    "    \n",
    "    return df\n",
    "\n",
    "taxi_df = taxi_df.map_partitions(bin_fares_frame).persist()\n",
    "done = distributed.wait(taxi_df)\n",
    "taxi_df_fare = taxi_df[['fare_bin', 'passenger_count']].groupby(by='fare_bin').count().compute()"
   ]
  },
  {
   "cell_type": "code",
   "execution_count": 15,
   "metadata": {},
   "outputs": [
    {
     "data": {
      "text/html": [
       "<div>\n",
       "<style scoped>\n",
       "    .dataframe tbody tr th:only-of-type {\n",
       "        vertical-align: middle;\n",
       "    }\n",
       "\n",
       "    .dataframe tbody tr th {\n",
       "        vertical-align: top;\n",
       "    }\n",
       "\n",
       "    .dataframe thead th {\n",
       "        text-align: right;\n",
       "    }\n",
       "</style>\n",
       "<table border=\"1\" class=\"dataframe\">\n",
       "  <thead>\n",
       "    <tr style=\"text-align: right;\">\n",
       "      <th></th>\n",
       "      <th>passenger_count</th>\n",
       "      <th>trip_distance</th>\n",
       "      <th>pickup_longitude</th>\n",
       "      <th>pickup_latitude</th>\n",
       "      <th>rate_code</th>\n",
       "      <th>dropoff_longitude</th>\n",
       "      <th>dropoff_latitude</th>\n",
       "      <th>fare_amount</th>\n",
       "      <th>hour</th>\n",
       "      <th>year</th>\n",
       "      <th>month</th>\n",
       "      <th>day</th>\n",
       "      <th>pickup_latitude_r</th>\n",
       "      <th>pickup_longitude_r</th>\n",
       "      <th>dropoff_latitude_r</th>\n",
       "      <th>dropoff_longitude_r</th>\n",
       "      <th>h_distance</th>\n",
       "      <th>fare_bin</th>\n",
       "    </tr>\n",
       "  </thead>\n",
       "  <tbody>\n",
       "    <tr>\n",
       "      <th>0</th>\n",
       "      <td>1</td>\n",
       "      <td>1</td>\n",
       "      <td>-73.993896</td>\n",
       "      <td>40.750111</td>\n",
       "      <td>1</td>\n",
       "      <td>-73.974785</td>\n",
       "      <td>40.750618</td>\n",
       "      <td>12.0</td>\n",
       "      <td>19</td>\n",
       "      <td>2015</td>\n",
       "      <td>1</td>\n",
       "      <td>15</td>\n",
       "      <td>40.75</td>\n",
       "      <td>-73.99</td>\n",
       "      <td>40.75</td>\n",
       "      <td>-73.97</td>\n",
       "      <td>1.001024</td>\n",
       "      <td>10</td>\n",
       "    </tr>\n",
       "    <tr>\n",
       "      <th>1</th>\n",
       "      <td>1</td>\n",
       "      <td>3</td>\n",
       "      <td>-74.001648</td>\n",
       "      <td>40.724243</td>\n",
       "      <td>1</td>\n",
       "      <td>-73.994415</td>\n",
       "      <td>40.759109</td>\n",
       "      <td>14.5</td>\n",
       "      <td>20</td>\n",
       "      <td>2015</td>\n",
       "      <td>1</td>\n",
       "      <td>10</td>\n",
       "      <td>40.72</td>\n",
       "      <td>-74.00</td>\n",
       "      <td>40.75</td>\n",
       "      <td>-73.99</td>\n",
       "      <td>2.438754</td>\n",
       "      <td>10</td>\n",
       "    </tr>\n",
       "    <tr>\n",
       "      <th>2</th>\n",
       "      <td>1</td>\n",
       "      <td>1</td>\n",
       "      <td>-73.963341</td>\n",
       "      <td>40.802788</td>\n",
       "      <td>1</td>\n",
       "      <td>-73.951820</td>\n",
       "      <td>40.824413</td>\n",
       "      <td>9.5</td>\n",
       "      <td>20</td>\n",
       "      <td>2015</td>\n",
       "      <td>1</td>\n",
       "      <td>10</td>\n",
       "      <td>40.80</td>\n",
       "      <td>-73.96</td>\n",
       "      <td>40.82</td>\n",
       "      <td>-73.95</td>\n",
       "      <td>1.611153</td>\n",
       "      <td>0</td>\n",
       "    </tr>\n",
       "    <tr>\n",
       "      <th>3</th>\n",
       "      <td>1</td>\n",
       "      <td>0</td>\n",
       "      <td>-74.009087</td>\n",
       "      <td>40.713818</td>\n",
       "      <td>1</td>\n",
       "      <td>-74.004326</td>\n",
       "      <td>40.719986</td>\n",
       "      <td>3.5</td>\n",
       "      <td>20</td>\n",
       "      <td>2015</td>\n",
       "      <td>1</td>\n",
       "      <td>10</td>\n",
       "      <td>40.71</td>\n",
       "      <td>-74.00</td>\n",
       "      <td>40.71</td>\n",
       "      <td>-74.00</td>\n",
       "      <td>0.493789</td>\n",
       "      <td>0</td>\n",
       "    </tr>\n",
       "    <tr>\n",
       "      <th>4</th>\n",
       "      <td>1</td>\n",
       "      <td>3</td>\n",
       "      <td>-73.971176</td>\n",
       "      <td>40.762428</td>\n",
       "      <td>1</td>\n",
       "      <td>-74.004181</td>\n",
       "      <td>40.742653</td>\n",
       "      <td>15.0</td>\n",
       "      <td>20</td>\n",
       "      <td>2015</td>\n",
       "      <td>1</td>\n",
       "      <td>10</td>\n",
       "      <td>40.76</td>\n",
       "      <td>-73.97</td>\n",
       "      <td>40.74</td>\n",
       "      <td>-74.00</td>\n",
       "      <td>2.202665</td>\n",
       "      <td>10</td>\n",
       "    </tr>\n",
       "  </tbody>\n",
       "</table>\n",
       "</div>"
      ],
      "text/plain": [
       "   passenger_count  trip_distance  pickup_longitude  pickup_latitude  \\\n",
       "0                1              1        -73.993896        40.750111   \n",
       "1                1              3        -74.001648        40.724243   \n",
       "2                1              1        -73.963341        40.802788   \n",
       "3                1              0        -74.009087        40.713818   \n",
       "4                1              3        -73.971176        40.762428   \n",
       "\n",
       "   rate_code  dropoff_longitude  dropoff_latitude  fare_amount  hour  year  \\\n",
       "0          1         -73.974785         40.750618         12.0    19  2015   \n",
       "1          1         -73.994415         40.759109         14.5    20  2015   \n",
       "2          1         -73.951820         40.824413          9.5    20  2015   \n",
       "3          1         -74.004326         40.719986          3.5    20  2015   \n",
       "4          1         -74.004181         40.742653         15.0    20  2015   \n",
       "\n",
       "   month  day  pickup_latitude_r  pickup_longitude_r  dropoff_latitude_r  \\\n",
       "0      1   15              40.75              -73.99               40.75   \n",
       "1      1   10              40.72              -74.00               40.75   \n",
       "2      1   10              40.80              -73.96               40.82   \n",
       "3      1   10              40.71              -74.00               40.71   \n",
       "4      1   10              40.76              -73.97               40.74   \n",
       "\n",
       "   dropoff_longitude_r  h_distance  fare_bin  \n",
       "0               -73.97    1.001024        10  \n",
       "1               -73.99    2.438754        10  \n",
       "2               -73.95    1.611153         0  \n",
       "3               -74.00    0.493789         0  \n",
       "4               -74.00    2.202665        10  "
      ]
     },
     "execution_count": 15,
     "metadata": {},
     "output_type": "execute_result"
    }
   ],
   "source": [
    "taxi_df.head()"
   ]
  },
  {
   "cell_type": "code",
   "execution_count": 16,
   "metadata": {},
   "outputs": [
    {
     "name": "stdout",
     "output_type": "stream",
     "text": [
      "################################# SORTING DATA #################################\n",
      "CPU times: user 17.7 s, sys: 262 ms, total: 18 s\n",
      "Wall time: 7min 17s\n"
     ]
    }
   ],
   "source": [
    "%%time\n",
    "print_message('SORTING DATA')\n",
    "taxi_df = taxi_df.sort_values(by='fare_amount').persist()"
   ]
  }
 ],
 "metadata": {
  "kernelspec": {
   "display_name": "Python 3",
   "language": "python",
   "name": "python3"
  },
  "language_info": {
   "codemirror_mode": {
    "name": "ipython",
    "version": 3
   },
   "file_extension": ".py",
   "mimetype": "text/x-python",
   "name": "python",
   "nbconvert_exporter": "python",
   "pygments_lexer": "ipython3",
   "version": "3.6.7"
  }
 },
 "nbformat": 4,
 "nbformat_minor": 4
}
