{
 "cells": [
  {
   "cell_type": "markdown",
   "metadata": {},
   "source": [
    "# Accelerated Machine Learning at Scale with NVIDIA RAPIDS on Microsoft Azure ML"
   ]
  },
  {
   "cell_type": "markdown",
   "metadata": {},
   "source": [
    "## Tom Drabas (Microsoft), Manuel Reyes-Gomez (NVIDIA)"
   ]
  },
  {
   "cell_type": "markdown",
   "metadata": {},
   "source": [
    "### Imports"
   ]
  },
  {
   "cell_type": "code",
   "execution_count": 1,
   "metadata": {},
   "outputs": [],
   "source": [
    "import azureml_setup\n",
    "from dask_cloudprovider import AzureMLCluster"
   ]
  },
  {
   "cell_type": "markdown",
   "metadata": {},
   "source": [
    "### Setup"
   ]
  },
  {
   "cell_type": "markdown",
   "metadata": {},
   "source": [
    "#### Workspace\n",
    "\n",
    "Documentation: [Workspace](https://docs.microsoft.com/en-us/python/api/azureml-core/azureml.core.workspace.workspace?view=azure-ml-py)"
   ]
  },
  {
   "cell_type": "code",
   "execution_count": 2,
   "metadata": {},
   "outputs": [],
   "source": [
    "ws = azureml_setup.get_workspace()"
   ]
  },
  {
   "cell_type": "markdown",
   "metadata": {},
   "source": [
    "#### Parameters"
   ]
  },
  {
   "cell_type": "code",
   "execution_count": 3,
   "metadata": {},
   "outputs": [
    {
     "name": "stdout",
     "output_type": "stream",
     "text": [
      "\n",
      "Name: gtc20-001\n",
      "\n",
      "vNET RG: azure-sandbox\n",
      "vNET name: todrabas_UK_STH_VN\n",
      "vNET subnet name: default\n",
      "\n",
      "Compute target: gtc20-001-ct\n",
      "Experiment name: gtc20-001-dask-demo\n",
      "\n",
      "Admin login name: gtc20\n",
      "\n"
     ]
    }
   ],
   "source": [
    "workshop_id = 1                      # REPLACE\n",
    "\n",
    "########################################################\n",
    "### DO NOT CHANGE ANYTHING BELOW\n",
    "########################################################\n",
    "\n",
    "name = f'GTC20-{workshop_id:03d}'.lower()\n",
    "\n",
    "### vnet settings\n",
    "vnet_rg = ws.resource_group\n",
    "vnet_name = 'todrabas_UK_STH_VN'\n",
    "subnet_name = 'default'\n",
    "\n",
    "### azure ml names\n",
    "ct_name  = f'{name}-ct'\n",
    "exp_name = f'{name}-dask-demo'\n",
    "\n",
    "### credentials\n",
    "admin_username = name.split('-')[0]\n",
    "admin_ssh_key_pub = '../../../ssh_key/gtc20_rsa.pub'\n",
    "admin_ssh_key_priv = '../../../ssh_key/gtc20_rsa'\n",
    "\n",
    "### trust but verify\n",
    "verify = f'''\n",
    "Name: {name}\n",
    "\n",
    "vNET RG: {vnet_rg}\n",
    "vNET name: {vnet_name}\n",
    "vNET subnet name: {subnet_name}\n",
    "\n",
    "Compute target: {ct_name}\n",
    "Experiment name: {exp_name}\n",
    "\n",
    "Admin login name: {admin_username}\n",
    "'''\n",
    "\n",
    "print(verify)"
   ]
  },
  {
   "cell_type": "markdown",
   "metadata": {},
   "source": [
    "#### Compute target\n",
    "Documentation: [Compute target](https://docs.microsoft.com/en-us/python/api/azureml-core/azureml.core.compute.amlcompute(class)?view=azure-ml-py)"
   ]
  },
  {
   "cell_type": "code",
   "execution_count": 4,
   "metadata": {},
   "outputs": [],
   "source": [
    "# ws = get_workspace()\n",
    "ct = azureml_setup.get_compute_target(\n",
    "      ws\n",
    "    , ct_name\n",
    "    , vm_name='STANDARD_NC6S_V3'\n",
    "    , min_nodes=0\n",
    "    , max_nodes=2\n",
    "    , vnet_rg=vnet_rg\n",
    "    , vnet_name=vnet_name\n",
    "    , subnet_name=subnet_name\n",
    "    , admin_username=admin_username\n",
    "    , ssh_key_pub=admin_ssh_key_pub\n",
    ")"
   ]
  },
  {
   "cell_type": "markdown",
   "metadata": {},
   "source": [
    "#### Environment\n",
    "Documentation: [Environment](https://docs.microsoft.com/en-us/python/api/azureml-core/azureml.core.environment?view=azure-ml-py)"
   ]
  },
  {
   "cell_type": "code",
   "execution_count": 5,
   "metadata": {},
   "outputs": [],
   "source": [
    "env = azureml_setup.get_environment(ws, environment_name = 'gtc20_GPU_ENV')"
   ]
  },
  {
   "cell_type": "markdown",
   "metadata": {},
   "source": [
    "### NYC Taxi data"
   ]
  },
  {
   "cell_type": "code",
   "execution_count": 6,
   "metadata": {},
   "outputs": [],
   "source": [
    "# download_and_upload_data(ws)"
   ]
  },
  {
   "cell_type": "markdown",
   "metadata": {},
   "source": [
    "### Create Azure ML Dask cluster"
   ]
  },
  {
   "cell_type": "code",
   "execution_count": 8,
   "metadata": {},
   "outputs": [
    {
     "name": "stdout",
     "output_type": "stream",
     "text": [
      "############################## Setting up cluster ##############################\n",
      "########################## Submitting the experiment ###########################\n",
      "####################### Waiting for scheduler node's IP ########################\n",
      ".....\n",
      "\n",
      "\n",
      "########################### Scheduler: 10.7.0.7:8786 ###########################\n",
      "############################# Not on the same VNET #############################\n",
      "########################### Connections established ############################\n",
      "############################# Scaling to 2 workers #############################\n",
      "############################### Scaling is done ################################\n"
     ]
    }
   ],
   "source": [
    "amlcluster = AzureMLCluster(\n",
    "      workspace = ws\n",
    "    , compute_target = ct\n",
    "    , initial_node_count = 2\n",
    "    , experiment_name = exp_name\n",
    "    , environment_definition = env\n",
    "    , admin_username = admin_username\n",
    "    , admin_ssh_key = admin_ssh_key_priv\n",
    "    , scheduler_idle_timeout = 3600 ## close the cluster after 1h if not used\n",
    "    , datastores = [ws.datastores['datafiles']]\n",
    ")"
   ]
  },
  {
   "cell_type": "code",
   "execution_count": 9,
   "metadata": {},
   "outputs": [
    {
     "data": {
      "application/vnd.jupyter.widget-view+json": {
       "model_id": "f410708a352745eaaf2160fcc5f48d11",
       "version_major": 2,
       "version_minor": 0
      },
      "text/plain": [
       "VBox(children=(HTML(value='<h2>AzureMLCluster</h2>'), HBox(children=(HTML(value='\\n<div>\\n  <style scoped>\\n  …"
      ]
     },
     "metadata": {},
     "output_type": "display_data"
    }
   ],
   "source": [
    "amlcluster"
   ]
  },
  {
   "cell_type": "code",
   "execution_count": 12,
   "metadata": {},
   "outputs": [
    {
     "name": "stdout",
     "output_type": "stream",
     "text": [
      "################### Scheduler and workers are disconnected. ####################\n"
     ]
    }
   ],
   "source": [
    "amlcluster.close()"
   ]
  },
  {
   "cell_type": "code",
   "execution_count": null,
   "metadata": {},
   "outputs": [],
   "source": []
  }
 ],
 "metadata": {
  "kernelspec": {
   "display_name": "Python 3",
   "language": "python",
   "name": "python3"
  },
  "language_info": {
   "codemirror_mode": {
    "name": "ipython",
    "version": 3
   },
   "file_extension": ".py",
   "mimetype": "text/x-python",
   "name": "python",
   "nbconvert_exporter": "python",
   "pygments_lexer": "ipython3",
   "version": "3.7.4"
  }
 },
 "nbformat": 4,
 "nbformat_minor": 4
}
