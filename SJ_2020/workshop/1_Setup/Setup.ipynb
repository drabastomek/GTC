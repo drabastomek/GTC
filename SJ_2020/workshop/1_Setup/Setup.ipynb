{
 "cells": [
  {
   "cell_type": "markdown",
   "metadata": {},
   "source": [
    "# Accelerated Machine Learning at Scale with NVIDIA RAPIDS on Microsoft Azure ML"
   ]
  },
  {
   "cell_type": "markdown",
   "metadata": {},
   "source": [
    "## Tom Drabas (Microsoft), Manuel Reyes-Gomez (NVIDIA)"
   ]
  },
  {
   "cell_type": "markdown",
   "metadata": {},
   "source": [
    "### Install dask_cloudprovider"
   ]
  },
  {
   "cell_type": "code",
   "execution_count": 2,
   "metadata": {
    "collapsed": true,
    "jupyter": {
     "outputs_hidden": true
    }
   },
   "outputs": [
    {
     "name": "stdout",
     "output_type": "stream",
     "text": [
      "Collecting git+https://github.com/drabastomek/dask-cloudprovider\n",
      "  Cloning https://github.com/drabastomek/dask-cloudprovider to /tmp/pip-req-build-6uw1vyfc\n",
      "  Running command git clone -q https://github.com/drabastomek/dask-cloudprovider /tmp/pip-req-build-6uw1vyfc\n",
      "Collecting aiobotocore>=0.10.2 (from dask-cloudprovider==0.1.1+206.gd708ee2)\n",
      "\u001b[?25l  Downloading https://files.pythonhosted.org/packages/8c/eb/53443d088023f016ba076d23b8aa7d223bed7938e2eba4d1c06f52b3c0eb/aiobotocore-1.0.1-py3-none-any.whl (40kB)\n",
      "\u001b[K     |████████████████████████████████| 40kB 13.6MB/s eta 0:00:01\n",
      "\u001b[?25hRequirement already satisfied, skipping upgrade: dask>=2.2.0 in /anaconda/envs/azureml_py36/lib/python3.6/site-packages (from dask-cloudprovider==0.1.1+206.gd708ee2) (2.5.2)\n",
      "Requirement already satisfied, skipping upgrade: distributed>=2.3.1 in /anaconda/envs/azureml_py36/lib/python3.6/site-packages (from dask-cloudprovider==0.1.1+206.gd708ee2) (2.5.2)\n",
      "Requirement already satisfied, skipping upgrade: azureml-sdk>=1.0.83 in /anaconda/envs/azureml_py36/lib/python3.6/site-packages (from dask-cloudprovider==0.1.1+206.gd708ee2) (1.0.85)\n",
      "Collecting botocore<1.15.33,>=1.15.32 (from aiobotocore>=0.10.2->dask-cloudprovider==0.1.1+206.gd708ee2)\n",
      "\u001b[?25l  Downloading https://files.pythonhosted.org/packages/49/86/6448bb5ab4b0c169f379fce589e568e798907b569eaeb012c720a4dd9ca2/botocore-1.15.32-py2.py3-none-any.whl (6.0MB)\n",
      "\u001b[K     |████████████████████████████████| 6.1MB 8.1MB/s eta 0:00:01\n",
      "\u001b[?25hCollecting aioitertools>=0.5.1 (from aiobotocore>=0.10.2->dask-cloudprovider==0.1.1+206.gd708ee2)\n",
      "  Downloading https://files.pythonhosted.org/packages/d5/72/5f2c75e34b10bdb53baaae1929331699bdd4505c4887d5a6e84aa4aeb460/aioitertools-0.5.1-py3-none-any.whl\n",
      "Requirement already satisfied, skipping upgrade: wrapt>=1.10.10 in /anaconda/envs/azureml_py36/lib/python3.6/site-packages (from aiobotocore>=0.10.2->dask-cloudprovider==0.1.1+206.gd708ee2) (1.11.2)\n",
      "Collecting aiohttp>=3.3.1 (from aiobotocore>=0.10.2->dask-cloudprovider==0.1.1+206.gd708ee2)\n",
      "\u001b[?25l  Downloading https://files.pythonhosted.org/packages/7c/39/7eb5f98d24904e0f6d3edb505d4aa60e3ef83c0a58d6fe18244a51757247/aiohttp-3.6.2-cp36-cp36m-manylinux1_x86_64.whl (1.2MB)\n",
      "\u001b[K     |████████████████████████████████| 1.2MB 65.3MB/s eta 0:00:01\n",
      "\u001b[?25hRequirement already satisfied, skipping upgrade: tornado>=5 in /anaconda/envs/azureml_py36/lib/python3.6/site-packages (from distributed>=2.3.1->dask-cloudprovider==0.1.1+206.gd708ee2) (6.0.3)\n",
      "Requirement already satisfied, skipping upgrade: psutil>=5.0 in /anaconda/envs/azureml_py36/lib/python3.6/site-packages (from distributed>=2.3.1->dask-cloudprovider==0.1.1+206.gd708ee2) (5.6.3)\n",
      "Requirement already satisfied, skipping upgrade: msgpack in /anaconda/envs/azureml_py36/lib/python3.6/site-packages (from distributed>=2.3.1->dask-cloudprovider==0.1.1+206.gd708ee2) (0.6.1)\n",
      "Requirement already satisfied, skipping upgrade: toolz>=0.7.4 in /anaconda/envs/azureml_py36/lib/python3.6/site-packages (from distributed>=2.3.1->dask-cloudprovider==0.1.1+206.gd708ee2) (0.10.0)\n",
      "Requirement already satisfied, skipping upgrade: sortedcontainers!=2.0.0,!=2.0.1 in /anaconda/envs/azureml_py36/lib/python3.6/site-packages (from distributed>=2.3.1->dask-cloudprovider==0.1.1+206.gd708ee2) (2.1.0)\n",
      "Requirement already satisfied, skipping upgrade: tblib in /anaconda/envs/azureml_py36/lib/python3.6/site-packages (from distributed>=2.3.1->dask-cloudprovider==0.1.1+206.gd708ee2) (1.4.0)\n",
      "Requirement already satisfied, skipping upgrade: click>=6.6 in /anaconda/envs/azureml_py36/lib/python3.6/site-packages (from distributed>=2.3.1->dask-cloudprovider==0.1.1+206.gd708ee2) (7.0)\n",
      "Requirement already satisfied, skipping upgrade: zict>=0.1.3 in /anaconda/envs/azureml_py36/lib/python3.6/site-packages (from distributed>=2.3.1->dask-cloudprovider==0.1.1+206.gd708ee2) (1.0.0)\n",
      "Requirement already satisfied, skipping upgrade: cloudpickle>=0.2.2 in /anaconda/envs/azureml_py36/lib/python3.6/site-packages (from distributed>=2.3.1->dask-cloudprovider==0.1.1+206.gd708ee2) (1.2.2)\n",
      "Requirement already satisfied, skipping upgrade: pyyaml in /anaconda/envs/azureml_py36/lib/python3.6/site-packages (from distributed>=2.3.1->dask-cloudprovider==0.1.1+206.gd708ee2) (5.1.2)\n",
      "Requirement already satisfied, skipping upgrade: azureml-train-automl-client==1.0.85.* in /anaconda/envs/azureml_py36/lib/python3.6/site-packages (from azureml-sdk>=1.0.83->dask-cloudprovider==0.1.1+206.gd708ee2) (1.0.85.4)\n",
      "Requirement already satisfied, skipping upgrade: azureml-train==1.0.85.* in /anaconda/envs/azureml_py36/lib/python3.6/site-packages (from azureml-sdk>=1.0.83->dask-cloudprovider==0.1.1+206.gd708ee2) (1.0.85)\n",
      "Requirement already satisfied, skipping upgrade: azureml-core==1.0.85.* in /anaconda/envs/azureml_py36/lib/python3.6/site-packages (from azureml-sdk>=1.0.83->dask-cloudprovider==0.1.1+206.gd708ee2) (1.0.85.5)\n",
      "Requirement already satisfied, skipping upgrade: azureml-pipeline==1.0.85.* in /anaconda/envs/azureml_py36/lib/python3.6/site-packages (from azureml-sdk>=1.0.83->dask-cloudprovider==0.1.1+206.gd708ee2) (1.0.85)\n",
      "Requirement already satisfied, skipping upgrade: azureml-dataprep[fuse]<1.2.0a,>=1.1.37a in /anaconda/envs/azureml_py36/lib/python3.6/site-packages (from azureml-sdk>=1.0.83->dask-cloudprovider==0.1.1+206.gd708ee2) (1.1.38)\n",
      "Requirement already satisfied, skipping upgrade: python-dateutil<3.0.0,>=2.1 in /anaconda/envs/azureml_py36/lib/python3.6/site-packages (from botocore<1.15.33,>=1.15.32->aiobotocore>=0.10.2->dask-cloudprovider==0.1.1+206.gd708ee2) (2.8.0)\n",
      "Requirement already satisfied, skipping upgrade: jmespath<1.0.0,>=0.7.1 in /anaconda/envs/azureml_py36/lib/python3.6/site-packages (from botocore<1.15.33,>=1.15.32->aiobotocore>=0.10.2->dask-cloudprovider==0.1.1+206.gd708ee2) (0.9.5)\n",
      "Requirement already satisfied, skipping upgrade: docutils<0.16,>=0.10 in /anaconda/envs/azureml_py36/lib/python3.6/site-packages (from botocore<1.15.33,>=1.15.32->aiobotocore>=0.10.2->dask-cloudprovider==0.1.1+206.gd708ee2) (0.15.2)\n",
      "Requirement already satisfied, skipping upgrade: urllib3<1.26,>=1.20; python_version != \"3.4\" in /anaconda/envs/azureml_py36/lib/python3.6/site-packages (from botocore<1.15.33,>=1.15.32->aiobotocore>=0.10.2->dask-cloudprovider==0.1.1+206.gd708ee2) (1.24.2)\n",
      "Collecting multidict<5.0,>=4.5 (from aiohttp>=3.3.1->aiobotocore>=0.10.2->dask-cloudprovider==0.1.1+206.gd708ee2)\n",
      "\u001b[?25l  Downloading https://files.pythonhosted.org/packages/30/2e/3ab2f1fb72571f75013db323a3799d505d99f3bc203513604f1ffb9b7858/multidict-4.7.5-cp36-cp36m-manylinux1_x86_64.whl (148kB)\n",
      "\u001b[K     |████████████████████████████████| 153kB 55.7MB/s eta 0:00:01\n",
      "\u001b[?25hCollecting async-timeout<4.0,>=3.0 (from aiohttp>=3.3.1->aiobotocore>=0.10.2->dask-cloudprovider==0.1.1+206.gd708ee2)\n",
      "  Downloading https://files.pythonhosted.org/packages/e1/1e/5a4441be21b0726c4464f3f23c8b19628372f606755a9d2e46c187e65ec4/async_timeout-3.0.1-py3-none-any.whl\n",
      "Collecting yarl<2.0,>=1.0 (from aiohttp>=3.3.1->aiobotocore>=0.10.2->dask-cloudprovider==0.1.1+206.gd708ee2)\n",
      "\u001b[?25l  Downloading https://files.pythonhosted.org/packages/95/8f/0209fc5d975f839344c33c822ff2f7ef80f6b1e984673a5a68f960bfa583/yarl-1.4.2-cp36-cp36m-manylinux1_x86_64.whl (252kB)\n",
      "\u001b[K     |████████████████████████████████| 256kB 58.9MB/s eta 0:00:01\n",
      "\u001b[?25hCollecting idna-ssl>=1.0; python_version < \"3.7\" (from aiohttp>=3.3.1->aiobotocore>=0.10.2->dask-cloudprovider==0.1.1+206.gd708ee2)\n",
      "  Downloading https://files.pythonhosted.org/packages/46/03/07c4894aae38b0de52b52586b24bf189bb83e4ddabfe2e2c8f2419eec6f4/idna-ssl-1.1.0.tar.gz\n",
      "Requirement already satisfied, skipping upgrade: typing-extensions>=3.6.5; python_version < \"3.7\" in /anaconda/envs/azureml_py36/lib/python3.6/site-packages (from aiohttp>=3.3.1->aiobotocore>=0.10.2->dask-cloudprovider==0.1.1+206.gd708ee2) (3.7.4.1)\n",
      "Requirement already satisfied, skipping upgrade: attrs>=17.3.0 in /anaconda/envs/azureml_py36/lib/python3.6/site-packages (from aiohttp>=3.3.1->aiobotocore>=0.10.2->dask-cloudprovider==0.1.1+206.gd708ee2) (19.2.0)\n",
      "Requirement already satisfied, skipping upgrade: chardet<4.0,>=2.0 in /anaconda/envs/azureml_py36/lib/python3.6/site-packages (from aiohttp>=3.3.1->aiobotocore>=0.10.2->dask-cloudprovider==0.1.1+206.gd708ee2) (3.0.4)\n",
      "Requirement already satisfied, skipping upgrade: heapdict in /anaconda/envs/azureml_py36/lib/python3.6/site-packages (from zict>=0.1.3->distributed>=2.3.1->dask-cloudprovider==0.1.1+206.gd708ee2) (1.0.1)\n",
      "Requirement already satisfied, skipping upgrade: azureml-telemetry==1.0.85.* in /anaconda/envs/azureml_py36/lib/python3.6/site-packages (from azureml-train-automl-client==1.0.85.*->azureml-sdk>=1.0.83->dask-cloudprovider==0.1.1+206.gd708ee2) (1.0.85.2)\n",
      "Requirement already satisfied, skipping upgrade: pytz in /anaconda/envs/azureml_py36/lib/python3.6/site-packages (from azureml-train-automl-client==1.0.85.*->azureml-sdk>=1.0.83->dask-cloudprovider==0.1.1+206.gd708ee2) (2019.3)\n",
      "Requirement already satisfied, skipping upgrade: azureml-automl-core==1.0.85.* in /anaconda/envs/azureml_py36/lib/python3.6/site-packages (from azureml-train-automl-client==1.0.85.*->azureml-sdk>=1.0.83->dask-cloudprovider==0.1.1+206.gd708ee2) (1.0.85.5)\n",
      "Requirement already satisfied, skipping upgrade: azureml-train-core==1.0.85.* in /anaconda/envs/azureml_py36/lib/python3.6/site-packages (from azureml-train==1.0.85.*->azureml-sdk>=1.0.83->dask-cloudprovider==0.1.1+206.gd708ee2) (1.0.85)\n",
      "Requirement already satisfied, skipping upgrade: six>=1.11.0 in /anaconda/envs/azureml_py36/lib/python3.6/site-packages (from azureml-core==1.0.85.*->azureml-sdk>=1.0.83->dask-cloudprovider==0.1.1+206.gd708ee2) (1.14.0)\n",
      "Requirement already satisfied, skipping upgrade: ruamel.yaml<=0.15.89,>=0.15.35 in /anaconda/envs/azureml_py36/lib/python3.6/site-packages (from azureml-core==1.0.85.*->azureml-sdk>=1.0.83->dask-cloudprovider==0.1.1+206.gd708ee2) (0.15.89)\n",
      "Requirement already satisfied, skipping upgrade: cryptography!=1.9,!=2.0.*,!=2.1.*,!=2.2.* in /anaconda/envs/azureml_py36/lib/python3.6/site-packages (from azureml-core==1.0.85.*->azureml-sdk>=1.0.83->dask-cloudprovider==0.1.1+206.gd708ee2) (2.7)\n",
      "Requirement already satisfied, skipping upgrade: azure-mgmt-storage>=1.5.0 in /anaconda/envs/azureml_py36/lib/python3.6/site-packages (from azureml-core==1.0.85.*->azureml-sdk>=1.0.83->dask-cloudprovider==0.1.1+206.gd708ee2) (8.0.0)\n",
      "Requirement already satisfied, skipping upgrade: backports.tempfile in /anaconda/envs/azureml_py36/lib/python3.6/site-packages (from azureml-core==1.0.85.*->azureml-sdk>=1.0.83->dask-cloudprovider==0.1.1+206.gd708ee2) (1.0)\n",
      "Requirement already satisfied, skipping upgrade: msrestazure>=0.4.33 in /anaconda/envs/azureml_py36/lib/python3.6/site-packages (from azureml-core==1.0.85.*->azureml-sdk>=1.0.83->dask-cloudprovider==0.1.1+206.gd708ee2) (0.6.2)\n",
      "Requirement already satisfied, skipping upgrade: requests>=2.19.1 in /anaconda/envs/azureml_py36/lib/python3.6/site-packages (from azureml-core==1.0.85.*->azureml-sdk>=1.0.83->dask-cloudprovider==0.1.1+206.gd708ee2) (2.23.0)\n",
      "Requirement already satisfied, skipping upgrade: azure-mgmt-keyvault>=0.40.0 in /anaconda/envs/azureml_py36/lib/python3.6/site-packages (from azureml-core==1.0.85.*->azureml-sdk>=1.0.83->dask-cloudprovider==0.1.1+206.gd708ee2) (2.1.1)\n",
      "Requirement already satisfied, skipping upgrade: SecretStorage in /anaconda/envs/azureml_py36/lib/python3.6/site-packages (from azureml-core==1.0.85.*->azureml-sdk>=1.0.83->dask-cloudprovider==0.1.1+206.gd708ee2) (3.1.1)\n",
      "Requirement already satisfied, skipping upgrade: adal>=1.2.0 in /anaconda/envs/azureml_py36/lib/python3.6/site-packages (from azureml-core==1.0.85.*->azureml-sdk>=1.0.83->dask-cloudprovider==0.1.1+206.gd708ee2) (1.2.2)\n",
      "Requirement already satisfied, skipping upgrade: jsonpickle in /anaconda/envs/azureml_py36/lib/python3.6/site-packages (from azureml-core==1.0.85.*->azureml-sdk>=1.0.83->dask-cloudprovider==0.1.1+206.gd708ee2) (1.3)\n",
      "Requirement already satisfied, skipping upgrade: msrest>=0.5.1 in /anaconda/envs/azureml_py36/lib/python3.6/site-packages (from azureml-core==1.0.85.*->azureml-sdk>=1.0.83->dask-cloudprovider==0.1.1+206.gd708ee2) (0.6.11)\n",
      "Requirement already satisfied, skipping upgrade: PyJWT in /anaconda/envs/azureml_py36/lib/python3.6/site-packages (from azureml-core==1.0.85.*->azureml-sdk>=1.0.83->dask-cloudprovider==0.1.1+206.gd708ee2) (1.7.1)\n",
      "Requirement already satisfied, skipping upgrade: azure-graphrbac>=0.40.0 in /anaconda/envs/azureml_py36/lib/python3.6/site-packages (from azureml-core==1.0.85.*->azureml-sdk>=1.0.83->dask-cloudprovider==0.1.1+206.gd708ee2) (0.61.1)\n",
      "Requirement already satisfied, skipping upgrade: contextlib2 in /anaconda/envs/azureml_py36/lib/python3.6/site-packages (from azureml-core==1.0.85.*->azureml-sdk>=1.0.83->dask-cloudprovider==0.1.1+206.gd708ee2) (0.6.0)\n",
      "Requirement already satisfied, skipping upgrade: ndg-httpsclient in /anaconda/envs/azureml_py36/lib/python3.6/site-packages (from azureml-core==1.0.85.*->azureml-sdk>=1.0.83->dask-cloudprovider==0.1.1+206.gd708ee2) (0.5.1)\n",
      "Requirement already satisfied, skipping upgrade: azure-mgmt-containerregistry>=2.0.0 in /anaconda/envs/azureml_py36/lib/python3.6/site-packages (from azureml-core==1.0.85.*->azureml-sdk>=1.0.83->dask-cloudprovider==0.1.1+206.gd708ee2) (2.8.0)\n",
      "Requirement already satisfied, skipping upgrade: azure-mgmt-resource>=1.2.1 in /anaconda/envs/azureml_py36/lib/python3.6/site-packages (from azureml-core==1.0.85.*->azureml-sdk>=1.0.83->dask-cloudprovider==0.1.1+206.gd708ee2) (8.0.1)\n",
      "Requirement already satisfied, skipping upgrade: docker in /anaconda/envs/azureml_py36/lib/python3.6/site-packages (from azureml-core==1.0.85.*->azureml-sdk>=1.0.83->dask-cloudprovider==0.1.1+206.gd708ee2) (4.2.0)\n",
      "Requirement already satisfied, skipping upgrade: pyopenssl in /anaconda/envs/azureml_py36/lib/python3.6/site-packages (from azureml-core==1.0.85.*->azureml-sdk>=1.0.83->dask-cloudprovider==0.1.1+206.gd708ee2) (19.0.0)\n",
      "Requirement already satisfied, skipping upgrade: azure-common>=1.1.12 in /anaconda/envs/azureml_py36/lib/python3.6/site-packages (from azureml-core==1.0.85.*->azureml-sdk>=1.0.83->dask-cloudprovider==0.1.1+206.gd708ee2) (1.1.24)\n",
      "Requirement already satisfied, skipping upgrade: azure-mgmt-authorization>=0.40.0 in /anaconda/envs/azureml_py36/lib/python3.6/site-packages (from azureml-core==1.0.85.*->azureml-sdk>=1.0.83->dask-cloudprovider==0.1.1+206.gd708ee2) (0.60.0)\n",
      "Requirement already satisfied, skipping upgrade: pathspec in /anaconda/envs/azureml_py36/lib/python3.6/site-packages (from azureml-core==1.0.85.*->azureml-sdk>=1.0.83->dask-cloudprovider==0.1.1+206.gd708ee2) (0.7.0)\n",
      "Requirement already satisfied, skipping upgrade: azureml-pipeline-core==1.0.85.* in /anaconda/envs/azureml_py36/lib/python3.6/site-packages (from azureml-pipeline==1.0.85.*->azureml-sdk>=1.0.83->dask-cloudprovider==0.1.1+206.gd708ee2) (1.0.85.1)\n",
      "Requirement already satisfied, skipping upgrade: azureml-pipeline-steps==1.0.85.* in /anaconda/envs/azureml_py36/lib/python3.6/site-packages (from azureml-pipeline==1.0.85.*->azureml-sdk>=1.0.83->dask-cloudprovider==0.1.1+206.gd708ee2) (1.0.85)\n",
      "Requirement already satisfied, skipping upgrade: dotnetcore2>=2.1.9 in /anaconda/envs/azureml_py36/lib/python3.6/site-packages (from azureml-dataprep[fuse]<1.2.0a,>=1.1.37a->azureml-sdk>=1.0.83->dask-cloudprovider==0.1.1+206.gd708ee2) (2.1.13)\n",
      "Requirement already satisfied, skipping upgrade: azureml-dataprep-native<14.0.0,>=13.2.0 in /anaconda/envs/azureml_py36/lib/python3.6/site-packages (from azureml-dataprep[fuse]<1.2.0a,>=1.1.37a->azureml-sdk>=1.0.83->dask-cloudprovider==0.1.1+206.gd708ee2) (13.2.0)\n",
      "Requirement already satisfied, skipping upgrade: fusepy>=3.0.1; extra == \"fuse\" in /anaconda/envs/azureml_py36/lib/python3.6/site-packages (from azureml-dataprep[fuse]<1.2.0a,>=1.1.37a->azureml-sdk>=1.0.83->dask-cloudprovider==0.1.1+206.gd708ee2) (3.0.1)\n",
      "Requirement already satisfied, skipping upgrade: idna>=2.0 in /anaconda/envs/azureml_py36/lib/python3.6/site-packages (from yarl<2.0,>=1.0->aiohttp>=3.3.1->aiobotocore>=0.10.2->dask-cloudprovider==0.1.1+206.gd708ee2) (2.8)\n",
      "Requirement already satisfied, skipping upgrade: applicationinsights in /anaconda/envs/azureml_py36/lib/python3.6/site-packages (from azureml-telemetry==1.0.85.*->azureml-train-automl-client==1.0.85.*->azureml-sdk>=1.0.83->dask-cloudprovider==0.1.1+206.gd708ee2) (0.11.9)\n",
      "Requirement already satisfied, skipping upgrade: flake8<=3.7.9,>=3.1.0; python_version >= \"3.6\" in /anaconda/envs/azureml_py36/lib/python3.6/site-packages (from azureml-train-core==1.0.85.*->azureml-train==1.0.85.*->azureml-sdk>=1.0.83->dask-cloudprovider==0.1.1+206.gd708ee2) (3.7.9)\n",
      "Requirement already satisfied, skipping upgrade: azureml-train-restclients-hyperdrive==1.0.85.* in /anaconda/envs/azureml_py36/lib/python3.6/site-packages (from azureml-train-core==1.0.85.*->azureml-train==1.0.85.*->azureml-sdk>=1.0.83->dask-cloudprovider==0.1.1+206.gd708ee2) (1.0.85)\n",
      "Requirement already satisfied, skipping upgrade: asn1crypto>=0.21.0 in /anaconda/envs/azureml_py36/lib/python3.6/site-packages (from cryptography!=1.9,!=2.0.*,!=2.1.*,!=2.2.*->azureml-core==1.0.85.*->azureml-sdk>=1.0.83->dask-cloudprovider==0.1.1+206.gd708ee2) (1.0.1)\n",
      "Requirement already satisfied, skipping upgrade: cffi!=1.11.3,>=1.8 in /anaconda/envs/azureml_py36/lib/python3.6/site-packages (from cryptography!=1.9,!=2.0.*,!=2.1.*,!=2.2.*->azureml-core==1.0.85.*->azureml-sdk>=1.0.83->dask-cloudprovider==0.1.1+206.gd708ee2) (1.12.3)\n",
      "Requirement already satisfied, skipping upgrade: backports.weakref in /anaconda/envs/azureml_py36/lib/python3.6/site-packages (from backports.tempfile->azureml-core==1.0.85.*->azureml-sdk>=1.0.83->dask-cloudprovider==0.1.1+206.gd708ee2) (1.0.post1)\n",
      "Requirement already satisfied, skipping upgrade: certifi>=2017.4.17 in /anaconda/envs/azureml_py36/lib/python3.6/site-packages (from requests>=2.19.1->azureml-core==1.0.85.*->azureml-sdk>=1.0.83->dask-cloudprovider==0.1.1+206.gd708ee2) (2019.11.28)\n",
      "Requirement already satisfied, skipping upgrade: jeepney in /anaconda/envs/azureml_py36/lib/python3.6/site-packages (from SecretStorage->azureml-core==1.0.85.*->azureml-sdk>=1.0.83->dask-cloudprovider==0.1.1+206.gd708ee2) (0.4.1)\n",
      "Requirement already satisfied, skipping upgrade: requests-oauthlib>=0.5.0 in /anaconda/envs/azureml_py36/lib/python3.6/site-packages (from msrest>=0.5.1->azureml-core==1.0.85.*->azureml-sdk>=1.0.83->dask-cloudprovider==0.1.1+206.gd708ee2) (1.3.0)\n",
      "Requirement already satisfied, skipping upgrade: isodate>=0.6.0 in /anaconda/envs/azureml_py36/lib/python3.6/site-packages (from msrest>=0.5.1->azureml-core==1.0.85.*->azureml-sdk>=1.0.83->dask-cloudprovider==0.1.1+206.gd708ee2) (0.6.0)\n",
      "Requirement already satisfied, skipping upgrade: pyasn1>=0.1.1 in /anaconda/envs/azureml_py36/lib/python3.6/site-packages (from ndg-httpsclient->azureml-core==1.0.85.*->azureml-sdk>=1.0.83->dask-cloudprovider==0.1.1+206.gd708ee2) (0.4.8)\n",
      "Requirement already satisfied, skipping upgrade: websocket-client>=0.32.0 in /anaconda/envs/azureml_py36/lib/python3.6/site-packages (from docker->azureml-core==1.0.85.*->azureml-sdk>=1.0.83->dask-cloudprovider==0.1.1+206.gd708ee2) (0.57.0)\n",
      "Requirement already satisfied, skipping upgrade: distro>=1.2.0 in /anaconda/envs/azureml_py36/lib/python3.6/site-packages (from dotnetcore2>=2.1.9->azureml-dataprep[fuse]<1.2.0a,>=1.1.37a->azureml-sdk>=1.0.83->dask-cloudprovider==0.1.1+206.gd708ee2) (1.4.0)\n",
      "Requirement already satisfied, skipping upgrade: pycodestyle<2.6.0,>=2.5.0 in /anaconda/envs/azureml_py36/lib/python3.6/site-packages (from flake8<=3.7.9,>=3.1.0; python_version >= \"3.6\"->azureml-train-core==1.0.85.*->azureml-train==1.0.85.*->azureml-sdk>=1.0.83->dask-cloudprovider==0.1.1+206.gd708ee2) (2.5.0)\n",
      "Requirement already satisfied, skipping upgrade: entrypoints<0.4.0,>=0.3.0 in /anaconda/envs/azureml_py36/lib/python3.6/site-packages (from flake8<=3.7.9,>=3.1.0; python_version >= \"3.6\"->azureml-train-core==1.0.85.*->azureml-train==1.0.85.*->azureml-sdk>=1.0.83->dask-cloudprovider==0.1.1+206.gd708ee2) (0.3)\n",
      "Requirement already satisfied, skipping upgrade: mccabe<0.7.0,>=0.6.0 in /anaconda/envs/azureml_py36/lib/python3.6/site-packages (from flake8<=3.7.9,>=3.1.0; python_version >= \"3.6\"->azureml-train-core==1.0.85.*->azureml-train==1.0.85.*->azureml-sdk>=1.0.83->dask-cloudprovider==0.1.1+206.gd708ee2) (0.6.1)\n",
      "Requirement already satisfied, skipping upgrade: pyflakes<2.2.0,>=2.1.0 in /anaconda/envs/azureml_py36/lib/python3.6/site-packages (from flake8<=3.7.9,>=3.1.0; python_version >= \"3.6\"->azureml-train-core==1.0.85.*->azureml-train==1.0.85.*->azureml-sdk>=1.0.83->dask-cloudprovider==0.1.1+206.gd708ee2) (2.1.1)\n",
      "Requirement already satisfied, skipping upgrade: pycparser in /anaconda/envs/azureml_py36/lib/python3.6/site-packages (from cffi!=1.11.3,>=1.8->cryptography!=1.9,!=2.0.*,!=2.1.*,!=2.2.*->azureml-core==1.0.85.*->azureml-sdk>=1.0.83->dask-cloudprovider==0.1.1+206.gd708ee2) (2.19)\n",
      "Requirement already satisfied, skipping upgrade: oauthlib>=3.0.0 in /anaconda/envs/azureml_py36/lib/python3.6/site-packages (from requests-oauthlib>=0.5.0->msrest>=0.5.1->azureml-core==1.0.85.*->azureml-sdk>=1.0.83->dask-cloudprovider==0.1.1+206.gd708ee2) (3.1.0)\n",
      "Building wheels for collected packages: dask-cloudprovider, idna-ssl\n",
      "  Building wheel for dask-cloudprovider (setup.py) ... \u001b[?25ldone\n",
      "\u001b[?25h  Created wheel for dask-cloudprovider: filename=dask_cloudprovider-0.1.1+206.gd708ee2-cp36-none-any.whl size=30845 sha256=f0bc03f6833d1597d6e77dcb8d3d81a7b49f6e60c3253f0cc83dc21bd07d88c7\n",
      "  Stored in directory: /tmp/pip-ephem-wheel-cache-5d7dep9h/wheels/1a/0f/3b/1339d095c55270ecb24f43a78f1c98212e32d857798f11d927\n",
      "  Building wheel for idna-ssl (setup.py) ... \u001b[?25ldone\n",
      "\u001b[?25h  Created wheel for idna-ssl: filename=idna_ssl-1.1.0-cp36-none-any.whl size=3163 sha256=db63265d56f96ac36abcd5edf4db86f5ba2a3ed0076db6f9a365d08872ab304e\n",
      "  Stored in directory: /home/azureuser/.cache/pip/wheels/d3/00/b3/32d613e19e08a739751dd6bf998cfed277728f8b2127ad4eb7\n",
      "Successfully built dask-cloudprovider idna-ssl\n",
      "Installing collected packages: botocore, aioitertools, multidict, async-timeout, yarl, idna-ssl, aiohttp, aiobotocore, dask-cloudprovider\n",
      "  Found existing installation: botocore 1.15.13\n",
      "    Uninstalling botocore-1.15.13:\n",
      "      Successfully uninstalled botocore-1.15.13\n",
      "Successfully installed aiobotocore-1.0.1 aiohttp-3.6.2 aioitertools-0.5.1 async-timeout-3.0.1 botocore-1.15.32 dask-cloudprovider-0.1.1+206.gd708ee2 idna-ssl-1.1.0 multidict-4.7.5 yarl-1.4.2\n"
     ]
    }
   ],
   "source": [
    "!pip install --upgrade git+https://github.com/drabastomek/dask-cloudprovider"
   ]
  },
  {
   "cell_type": "markdown",
   "metadata": {},
   "source": [
    "### Imports"
   ]
  },
  {
   "cell_type": "code",
   "execution_count": 3,
   "metadata": {},
   "outputs": [],
   "source": [
    "import azureml_setup\n",
    "from dask_cloudprovider import AzureMLCluster"
   ]
  },
  {
   "cell_type": "markdown",
   "metadata": {},
   "source": [
    "### Setup"
   ]
  },
  {
   "cell_type": "markdown",
   "metadata": {},
   "source": [
    "#### Workspace\n",
    "\n",
    "Documentation: [Workspace](https://docs.microsoft.com/en-us/python/api/azureml-core/azureml.core.workspace.workspace?view=azure-ml-py)"
   ]
  },
  {
   "cell_type": "code",
   "execution_count": 4,
   "metadata": {},
   "outputs": [],
   "source": [
    "workshop_id = 53                      ### <<<<----- CHANGE THIS\n",
    "workspace_name = \"GTC2020EuropeWest\"  ### <<<<----- CHANGE THIS\n",
    "vnet_name = 'gtc2020-vnet-westeu'     ### <<<<----- CHANGE THIS\n",
    "\n",
    "### <<<--- DO NOT CHANGE ANYTHING BELOW --->>> ###\n",
    "subscription_id = \"04c74f0f-e88d-4b6e-83bb-1242060caec7\"\n",
    "resource_group = \"GTC2020Workshop\"\n",
    "tenant_id = \"43083d15-7273-40c1-b7db-39efd9ccc17a\""
   ]
  },
  {
   "cell_type": "code",
   "execution_count": 5,
   "metadata": {},
   "outputs": [
    {
     "name": "stdout",
     "output_type": "stream",
     "text": [
      "Performing interactive authentication. Please follow the instructions on the terminal.\n",
      "To sign in, use a web browser to open the page https://microsoft.com/devicelogin and enter the code AWH2KLRHM to authenticate.\n",
      "Interactive authentication successfully completed.\n"
     ]
    }
   ],
   "source": [
    "ws = azureml_setup.get_workspace(\n",
    "    subscription_id = subscription_id,\n",
    "    resource_group = resource_group,\n",
    "    workspace_name = workspace_name,\n",
    "    tenant_id = tenant_id\n",
    ")"
   ]
  },
  {
   "cell_type": "markdown",
   "metadata": {},
   "source": [
    "#### Parameters"
   ]
  },
  {
   "cell_type": "code",
   "execution_count": 6,
   "metadata": {},
   "outputs": [
    {
     "name": "stdout",
     "output_type": "stream",
     "text": [
      "\n",
      "Name: gtc20-053\n",
      "\n",
      "vNET RG: GTC2020Workshop\n",
      "vNET name: gtc2020-vnet-westeu\n",
      "vNET subnet name: default\n",
      "\n",
      "Compute target: gtc20-053-ct\n",
      "Experiment name: gtc20-053-workshop\n",
      "\n"
     ]
    }
   ],
   "source": [
    "########################################################\n",
    "### DO NOT CHANGE ANYTHING BELOW\n",
    "########################################################\n",
    "\n",
    "name = f'GTC20-{workshop_id:03d}'.lower()\n",
    "\n",
    "### vnet settings\n",
    "vnet_rg = ws.resource_group\n",
    "subnet_name = 'default'\n",
    "\n",
    "### azure ml names\n",
    "ct_name  = f'{name}-ct'\n",
    "exp_name = f'{name}-workshop'\n",
    "\n",
    "### trust but verify\n",
    "verify = f'''\n",
    "Name: {name}\n",
    "\n",
    "vNET RG: {vnet_rg}\n",
    "vNET name: {vnet_name}\n",
    "vNET subnet name: {subnet_name}\n",
    "\n",
    "Compute target: {ct_name}\n",
    "Experiment name: {exp_name}\n",
    "'''\n",
    "\n",
    "print(verify)"
   ]
  },
  {
   "cell_type": "markdown",
   "metadata": {},
   "source": [
    "#### Compute target\n",
    "Documentation: [Compute target](https://docs.microsoft.com/en-us/python/api/azureml-core/azureml.core.compute.amlcompute(class)?view=azure-ml-py)"
   ]
  },
  {
   "cell_type": "code",
   "execution_count": 7,
   "metadata": {},
   "outputs": [
    {
     "name": "stdout",
     "output_type": "stream",
     "text": [
      "Creating\n",
      "Succeeded..................\n",
      "AmlCompute wait for completion finished\n",
      "\n",
      "Minimum number of nodes requested have been provisioned\n"
     ]
    }
   ],
   "source": [
    "# ws = get_workspace()\n",
    "ct = azureml_setup.get_compute_target(\n",
    "      ws\n",
    "    , ct_name\n",
    "    , vm_name='STANDARD_ND6S'\n",
    "    , min_nodes=2\n",
    "    , max_nodes=2\n",
    "    , vnet_rg=vnet_rg\n",
    "    , vnet_name=vnet_name\n",
    "    , subnet_name=subnet_name\n",
    ")"
   ]
  },
  {
   "cell_type": "markdown",
   "metadata": {},
   "source": [
    "#### Environment\n",
    "Documentation: [Environment](https://docs.microsoft.com/en-us/python/api/azureml-core/azureml.core.environment?view=azure-ml-py)"
   ]
  },
  {
   "cell_type": "code",
   "execution_count": 8,
   "metadata": {},
   "outputs": [],
   "source": [
    "env = azureml_setup.get_environment(ws, environment_name = 'gtc20_GPU_ENV')"
   ]
  },
  {
   "cell_type": "markdown",
   "metadata": {},
   "source": [
    "### Create Azure ML Dask cluster"
   ]
  },
  {
   "cell_type": "code",
   "execution_count": 12,
   "metadata": {},
   "outputs": [
    {
     "name": "stdout",
     "output_type": "stream",
     "text": [
      "############################## Setting up cluster ##############################\n",
      "########################## Submitting the experiment ###########################\n",
      "####################### Waiting for scheduler node's IP ########################\n",
      "................\n",
      "\n",
      "\n",
      "########################## Scheduler: 10.2.0.54:8786 ###########################\n",
      "############################### On the same VNET ###############################\n",
      "########################### Connections established ############################\n",
      "############################# Scaling to 2 workers #############################\n",
      "############################### Scaling is done ################################\n"
     ]
    }
   ],
   "source": [
    "amlcluster = AzureMLCluster(\n",
    "      workspace = ws\n",
    "    , compute_target = ct\n",
    "    , initial_node_count = 2\n",
    "    , experiment_name = exp_name\n",
    "    , environment_definition = env\n",
    "    , scheduler_idle_timeout = 7200 ## close the cluster after 2h if not used\n",
    "    , datastores = [ws.datastores['datafileshare']]\n",
    ")"
   ]
  },
  {
   "cell_type": "code",
   "execution_count": 13,
   "metadata": {},
   "outputs": [
    {
     "data": {
      "application/vnd.jupyter.widget-view+json": {
       "model_id": "65856ef809064ec2839dd46bce6780a3",
       "version_major": 2,
       "version_minor": 0
      },
      "text/plain": [
       "VBox(children=(HTML(value='<h2>AzureMLCluster</h2>'), HBox(children=(HTML(value='\\n<div>\\n  <style scoped>\\n  …"
      ]
     },
     "metadata": {},
     "output_type": "display_data"
    }
   ],
   "source": [
    "amlcluster"
   ]
  },
  {
   "cell_type": "code",
   "execution_count": null,
   "metadata": {},
   "outputs": [],
   "source": [
    "amlcluster.close()"
   ]
  }
 ],
 "metadata": {
  "kernelspec": {
   "display_name": "Python 3",
   "language": "python",
   "name": "python3"
  },
  "language_info": {
   "codemirror_mode": {
    "name": "ipython",
    "version": 3
   },
   "file_extension": ".py",
   "mimetype": "text/x-python",
   "name": "python",
   "nbconvert_exporter": "python",
   "pygments_lexer": "ipython3",
   "version": "3.7.4"
  }
 },
 "nbformat": 4,
 "nbformat_minor": 4
}
