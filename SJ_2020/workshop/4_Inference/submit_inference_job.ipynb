{
 "cells": [
  {
   "cell_type": "code",
   "execution_count": null,
   "metadata": {},
   "outputs": [],
   "source": [
    "# this is for a strange bug with compute instances \n",
    "import os\n",
    "\n",
    "os.system('sudo mkdir temp')\n",
    "os.system('sudo cp /etc/nginx/nginx.conf temp/temp.conf') # stupid\n",
    "\n",
    "nginx = ''\n",
    "\n",
    "with open('temp/temp.conf') as f:\n",
    "    for line in f.readlines():\n",
    "        if 'websocket/|/ws/' in line:\n",
    "            nginx += line.replace('websocket/|/ws/', 'websocket/|/ws')\n",
    "        else:\n",
    "            nginx += line\n",
    "\n",
    "with open('temp/temp2.conf', 'w') as f:\n",
    "    f.write(nginx)\n",
    "    \n",
    "os.system('sudo mv temp/temp2.conf /etc/nginx/nginx.conf')\n",
    "os.system('sudo service nginx restart')\n",
    "# os.system('rm setup/temp.conf')\n",
    "os.system('sudo rm -rf temp')"
   ]
  },
  {
   "cell_type": "code",
   "execution_count": 9,
   "metadata": {},
   "outputs": [],
   "source": [
    "from azureml.core import Workspace, Experiment, Datastore, Dataset, Environment\n",
    "from azureml.core.runconfig import MpiConfiguration\n",
    "from azureml.core.compute import ComputeTarget, AmlCompute\n",
    "from azureml.core.authentication import InteractiveLoginAuthentication\n",
    "from azureml.train.estimator import Estimator\n",
    "from azureml.core.runconfig import MpiConfiguration\n"
   ]
  },
  {
   "cell_type": "code",
   "execution_count": 2,
   "metadata": {},
   "outputs": [],
   "source": [
    "interactive_auth = InteractiveLoginAuthentication(\n",
    "        tenant_id='72f988bf-86f1-41af-91ab-2d7cd011db47'\n",
    "    )\n",
    "\n",
    "subscription_id = '6560575d-fa06-4e7d-95fb-f962e74efd7a'\n",
    "resource_group = 'azure-sandbox'\n",
    "workspace_name = 'todrabas_UK_STH'\n",
    "location = 'uksouth'\n",
    "\n",
    "ws = Workspace(\n",
    "      workspace_name=workspace_name\n",
    "    , subscription_id=subscription_id\n",
    "    , resource_group=resource_group\n",
    "    , auth=interactive_auth\n",
    ")"
   ]
  },
  {
   "cell_type": "code",
   "execution_count": 3,
   "metadata": {},
   "outputs": [
    {
     "name": "stdout",
     "output_type": "stream",
     "text": [
      "\n",
      "Name: todrabas\n",
      "\n",
      "vNET RG: azure-sandbox\n",
      "vNET name: todrabas_UK_STH_VN\n",
      "vNET subnet name: default\n",
      "\n",
      "Compute target: todrabas-gpussh\n",
      "Experiment name: todrabas-dask-demo\n",
      "\n"
     ]
    }
   ],
   "source": [
    "# ws = Workspace.from_config()\n",
    "# from dask_cloudprovider import AzureMLCluster\n",
    "### name\n",
    "name = 'todrabas'             # REPLACE\n",
    "\n",
    "### vnet settings\n",
    "vnet_rg = ws.resource_group  # replace if needed\n",
    "vnet_name = 'todrabas_UK_STH_VN'     # replace if needed\n",
    "subnet_name = 'default'          # replace if needed\n",
    "\n",
    "### azure ml names\n",
    "ct_name = f'{name}-gpussh'\n",
    "exp_name = f'{name}-dask-demo'\n",
    "\n",
    "### trust but verify\n",
    "verify = f'''\n",
    "Name: {name}\n",
    "\n",
    "vNET RG: {vnet_rg}\n",
    "vNET name: {vnet_name}\n",
    "vNET subnet name: {subnet_name}\n",
    "\n",
    "Compute target: {ct_name}\n",
    "Experiment name: {exp_name}\n",
    "'''\n",
    "\n",
    "print(verify)\n",
    "\n",
    "# vm_name = list(AzureMLConfigurations.azure_gpu_vms.keys())[6]\n",
    "# gpus_per_node = AzureMLConfigurations.azure_gpu_vms[vm_name]\n",
    "\n",
    "if ct_name not in ws.compute_targets:\n",
    "    # create config for Azure ML cluster\n",
    "    # change properties as needed\n",
    "    config = AmlCompute.provisioning_configuration(\n",
    "          vm_size=vm_name\n",
    "        , min_nodes=0\n",
    "        , max_nodes=4\n",
    "        , vnet_resourcegroup_name=vnet_rg\n",
    "        , vnet_name=vnet_name\n",
    "        , subnet_name=subnet_name\n",
    "        , idle_seconds_before_scaledown=120\n",
    "        , \n",
    "    )\n",
    "    ct = ComputeTarget.create(ws, ct_name, config)\n",
    "    ct.wait_for_completion(show_output=True)\n",
    "else:\n",
    "    ct = ws.compute_targets[ct_name]\n",
    "\n",
    "## specify the data and code stores\n",
    "\n",
    "codefileshare = 'codefileshare'\n",
    "datafileshare = 'datafiles'\n",
    "    \n",
    "environment_name='todrabas_GPU_ENV'\n",
    "env = ws.environments[environment_name]"
   ]
  },
  {
   "cell_type": "code",
   "execution_count": 4,
   "metadata": {},
   "outputs": [],
   "source": [
    "from azureml.data.data_reference import DataReference\n",
    "\n",
    "codefileshare_store = Datastore(ws, codefileshare)\n",
    "datafileshare_store = Datastore(ws, datafileshare)\n",
    "\n",
    "codefileshare_data = DataReference(\n",
    "       datastore=codefileshare_store,\n",
    "       data_reference_name=\"codes\",\n",
    "       path_on_datastore=\".\")\n",
    "\n",
    "datafileshare_data = DataReference(\n",
    "       datastore=datafileshare_store,\n",
    "       data_reference_name=\"data\",\n",
    "       path_on_datastore=\".\")"
   ]
  },
  {
   "cell_type": "code",
   "execution_count": 64,
   "metadata": {},
   "outputs": [],
   "source": [
    "scheduler_params = {\n",
    "    '--scheduler': '10.7.0.5:8786'\n",
    "    , '--datastore_name': 'datafiles'\n",
    "    , '--path_to_data': '../../../datafiles/nyctaxi/2015/*'\n",
    "    , '--path_to_model': '../../codes/GTC/SJ_2020/workshop/saved_models/trained_model_xgboost.mdl'\n",
    "    , '--path_to_output': '../../codes/GTC/SJ_2020/workshop/saved_models/predictions/'\n",
    "    , '--file_index_start': 8\n",
    "}"
   ]
  },
  {
   "cell_type": "code",
   "execution_count": 67,
   "metadata": {},
   "outputs": [],
   "source": [
    "exp = Experiment(ws, 'model_inference')\n",
    "estimator = Estimator(\n",
    "    'inference'\n",
    "    , compute_target=ct\n",
    "    , entry_script='NYCTaxi_Dask_XGBoost_Inference.py'\n",
    "    , environment_definition=env\n",
    "    , script_params=scheduler_params\n",
    "    , node_count=1 ### start only scheduler\n",
    "    , distributed_training=MpiConfiguration()\n",
    "    , use_docker=True\n",
    "    , inputs=[codefileshare_data, datafileshare_data]\n",
    ")\n",
    "\n",
    "run = exp.submit(estimator)"
   ]
  }
 ],
 "metadata": {
  "kernelspec": {
   "display_name": "Python 3.6 - AzureML",
   "language": "python",
   "name": "python3-azureml"
  },
  "language_info": {
   "codemirror_mode": {
    "name": "ipython",
    "version": 3
   },
   "file_extension": ".py",
   "mimetype": "text/x-python",
   "name": "python",
   "nbconvert_exporter": "python",
   "pygments_lexer": "ipython3",
   "version": "3.6.9"
  }
 },
 "nbformat": 4,
 "nbformat_minor": 4
}
